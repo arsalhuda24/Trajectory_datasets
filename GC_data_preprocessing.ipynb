{
 "cells": [
  {
   "cell_type": "code",
   "execution_count": 22,
   "metadata": {},
   "outputs": [],
   "source": [
    "import numpy\n",
    "import pandas as pd\n",
    "import matplotlib.pyplot as plt\n"
   ]
  },
  {
   "cell_type": "code",
   "execution_count": 23,
   "metadata": {},
   "outputs": [],
   "source": [
    "GC_raw_data_path = 'D:\\\\GC\\\\Annotation'\n",
    "GC_meta_data_path = 'D:\\\\GC\\\\GC_meta_data.json'"
   ]
  },
  {
   "cell_type": "code",
   "execution_count": 24,
   "metadata": {},
   "outputs": [],
   "source": [
    "def traj(path):\n",
    "    df=pd.read_csv(path,header=None)\n",
    "    df.index = df.index + 1\n",
    "    frame = df[df.index % 3 == 0] \n",
    "    y=df[df.index % 2 == 0]\n",
    "    df_cord=df.drop(frame.index)\n",
    "    df_c=df_cord.reset_index()\n",
    "    df_c.index=df_c.index+1\n",
    "    y=df_c[df_c.index % 2 == 0]\n",
    "    x=df_c.drop(y.index)\n",
    "    x_n=x.reset_index()\n",
    "    y_n=y.reset_index()\n",
    "    xx=x_n.iloc[:,2:3]\n",
    "    yy=y_n.iloc[:,2:3]\n",
    "    frame_n= frame.reset_index()\n",
    "    ff= frame_n.iloc[:,1:2]\n",
    "    traj=pd.concat([ff,xx,yy],axis=1)\n",
    "    traj.columns=[\"frame\",\"x\",\"y\"]\n",
    "    return traj"
   ]
  },
  {
   "cell_type": "code",
   "execution_count": 44,
   "metadata": {},
   "outputs": [
    {
     "data": {
      "text/plain": [
       "['000002.txt', '000003.txt']"
      ]
     },
     "execution_count": 44,
     "metadata": {},
     "output_type": "execute_result"
    }
   ],
   "source": [
    "# path=\"D:\\\\GC\\\\Annotation\\\\000002.txt\"\n",
    "import os\n",
    "os.chdir(\"D:\\\\GC\\\\Annotation\\\\\")\n",
    "os.listdir()[1:3]"
   ]
  },
  {
   "cell_type": "code",
   "execution_count": 54,
   "metadata": {},
   "outputs": [],
   "source": [
    "a=[]\n",
    "files=os.listdir()[0:10]\n",
    "for ind,path in enumerate(files):\n",
    "#     path = (\"D:\\\\GC\\\\Annotation\\\\\" + \"00000\"+ str(i)+\".txt\")\n",
    "    dat= traj(path)\n",
    "#     print(i)\n",
    "    dat[\"ped_id\"]=ind+1\n",
    "    a.append(dat)\n",
    "    "
   ]
  },
  {
   "cell_type": "code",
   "execution_count": 65,
   "metadata": {},
   "outputs": [],
   "source": [
    "df=pd.concat(a)\n"
   ]
  },
  {
   "cell_type": "code",
   "execution_count": null,
   "metadata": {},
   "outputs": [],
   "source": []
  },
  {
   "cell_type": "code",
   "execution_count": null,
   "metadata": {},
   "outputs": [],
   "source": []
  },
  {
   "cell_type": "code",
   "execution_count": 71,
   "metadata": {},
   "outputs": [],
   "source": [
    "# df[(df.frame == 20) & (df.frame==40) &(df.frame==60) & (df.frame==80)]\n",
    "df_obs=df[(df.frame == 20) | (df.frame==40) | (df.frame==60) | (df.frame==80) | (df.frame==100)|(df.frame==120)]\n",
    "# df[(df.frame>=20) & (df.frame<= 80)]\n"
   ]
  },
  {
   "cell_type": "code",
   "execution_count": 73,
   "metadata": {},
   "outputs": [
    {
     "data": {
      "text/html": [
       "<div>\n",
       "<style scoped>\n",
       "    .dataframe tbody tr th:only-of-type {\n",
       "        vertical-align: middle;\n",
       "    }\n",
       "\n",
       "    .dataframe tbody tr th {\n",
       "        vertical-align: top;\n",
       "    }\n",
       "\n",
       "    .dataframe thead th {\n",
       "        text-align: right;\n",
       "    }\n",
       "</style>\n",
       "<table border=\"1\" class=\"dataframe\">\n",
       "  <thead>\n",
       "    <tr style=\"text-align: right;\">\n",
       "      <th></th>\n",
       "      <th>frame</th>\n",
       "      <th>x</th>\n",
       "      <th>y</th>\n",
       "      <th>ped_id</th>\n",
       "    </tr>\n",
       "  </thead>\n",
       "  <tbody>\n",
       "    <tr>\n",
       "      <th>33</th>\n",
       "      <td>660</td>\n",
       "      <td>1700</td>\n",
       "      <td>633</td>\n",
       "      <td>3</td>\n",
       "    </tr>\n",
       "    <tr>\n",
       "      <th>34</th>\n",
       "      <td>680</td>\n",
       "      <td>1752</td>\n",
       "      <td>648</td>\n",
       "      <td>3</td>\n",
       "    </tr>\n",
       "  </tbody>\n",
       "</table>\n",
       "</div>"
      ],
      "text/plain": [
       "    frame     x    y  ped_id\n",
       "33    660  1700  633       3\n",
       "34    680  1752  648       3"
      ]
     },
     "execution_count": 73,
     "metadata": {},
     "output_type": "execute_result"
    }
   ],
   "source": [
    "import numpy as np\n",
    "# obs=np.array(df_obs).reshape(8,6,4)\n",
    "df[(df.x<1755) & (df.x>1696) & (df.y<670) & (df.y>593)]"
   ]
  },
  {
   "cell_type": "code",
   "execution_count": 12,
   "metadata": {},
   "outputs": [],
   "source": [
    "import cv2"
   ]
  },
  {
   "cell_type": "code",
   "execution_count": null,
   "metadata": {},
   "outputs": [],
   "source": [
    "# img = np.zeros((512,512,3), np.uint8)\n",
    "# cv2.namedWindow('image')\n",
    "# cv2.setMouseCallback('image',draw_circle)\n"
   ]
  },
  {
   "cell_type": "code",
   "execution_count": 21,
   "metadata": {},
   "outputs": [],
   "source": [
    "img=cv2.imread(\"D:\\\\GC\\\\Frame\\\\000000.jpg\")\n",
    "img=cv2.resize(img, (720,576))\n",
    "cv2.imshow(\"s\",img)\n",
    "cv2.waitKey(10000)\n",
    "cv2.destroyAllWindows()"
   ]
  },
  {
   "cell_type": "code",
   "execution_count": 29,
   "metadata": {},
   "outputs": [
    {
     "data": {
      "text/html": [
       "<div>\n",
       "<style scoped>\n",
       "    .dataframe tbody tr th:only-of-type {\n",
       "        vertical-align: middle;\n",
       "    }\n",
       "\n",
       "    .dataframe tbody tr th {\n",
       "        vertical-align: top;\n",
       "    }\n",
       "\n",
       "    .dataframe thead th {\n",
       "        text-align: right;\n",
       "    }\n",
       "</style>\n",
       "<table border=\"1\" class=\"dataframe\">\n",
       "  <thead>\n",
       "    <tr style=\"text-align: right;\">\n",
       "      <th></th>\n",
       "      <th>frame</th>\n",
       "      <th>x</th>\n",
       "      <th>y</th>\n",
       "      <th>ped_id</th>\n",
       "    </tr>\n",
       "  </thead>\n",
       "  <tbody>\n",
       "    <tr>\n",
       "      <th>0</th>\n",
       "      <td>0</td>\n",
       "      <td>525</td>\n",
       "      <td>122</td>\n",
       "      <td>1</td>\n",
       "    </tr>\n",
       "    <tr>\n",
       "      <th>1</th>\n",
       "      <td>20</td>\n",
       "      <td>541</td>\n",
       "      <td>141</td>\n",
       "      <td>1</td>\n",
       "    </tr>\n",
       "    <tr>\n",
       "      <th>2</th>\n",
       "      <td>40</td>\n",
       "      <td>546</td>\n",
       "      <td>156</td>\n",
       "      <td>1</td>\n",
       "    </tr>\n",
       "    <tr>\n",
       "      <th>3</th>\n",
       "      <td>60</td>\n",
       "      <td>555</td>\n",
       "      <td>169</td>\n",
       "      <td>1</td>\n",
       "    </tr>\n",
       "    <tr>\n",
       "      <th>4</th>\n",
       "      <td>80</td>\n",
       "      <td>561</td>\n",
       "      <td>183</td>\n",
       "      <td>1</td>\n",
       "    </tr>\n",
       "    <tr>\n",
       "      <th>...</th>\n",
       "      <td>...</td>\n",
       "      <td>...</td>\n",
       "      <td>...</td>\n",
       "      <td>...</td>\n",
       "    </tr>\n",
       "    <tr>\n",
       "      <th>80</th>\n",
       "      <td>4260</td>\n",
       "      <td>1705</td>\n",
       "      <td>883</td>\n",
       "      <td>8</td>\n",
       "    </tr>\n",
       "    <tr>\n",
       "      <th>81</th>\n",
       "      <td>4280</td>\n",
       "      <td>1762</td>\n",
       "      <td>888</td>\n",
       "      <td>8</td>\n",
       "    </tr>\n",
       "    <tr>\n",
       "      <th>82</th>\n",
       "      <td>4300</td>\n",
       "      <td>1826</td>\n",
       "      <td>890</td>\n",
       "      <td>8</td>\n",
       "    </tr>\n",
       "    <tr>\n",
       "      <th>83</th>\n",
       "      <td>4320</td>\n",
       "      <td>1890</td>\n",
       "      <td>874</td>\n",
       "      <td>8</td>\n",
       "    </tr>\n",
       "    <tr>\n",
       "      <th>84</th>\n",
       "      <td>4340</td>\n",
       "      <td>1914</td>\n",
       "      <td>900</td>\n",
       "      <td>8</td>\n",
       "    </tr>\n",
       "  </tbody>\n",
       "</table>\n",
       "<p>327 rows × 4 columns</p>\n",
       "</div>"
      ],
      "text/plain": [
       "    frame     x    y  ped_id\n",
       "0       0   525  122       1\n",
       "1      20   541  141       1\n",
       "2      40   546  156       1\n",
       "3      60   555  169       1\n",
       "4      80   561  183       1\n",
       "..    ...   ...  ...     ...\n",
       "80   4260  1705  883       8\n",
       "81   4280  1762  888       8\n",
       "82   4300  1826  890       8\n",
       "83   4320  1890  874       8\n",
       "84   4340  1914  900       8\n",
       "\n",
       "[327 rows x 4 columns]"
      ]
     },
     "execution_count": 29,
     "metadata": {},
     "output_type": "execute_result"
    }
   ],
   "source": [
    "df"
   ]
  },
  {
   "cell_type": "code",
   "execution_count": null,
   "metadata": {},
   "outputs": [],
   "source": []
  }
 ],
 "metadata": {
  "kernelspec": {
   "display_name": "Python 3",
   "language": "python",
   "name": "python3"
  },
  "language_info": {
   "codemirror_mode": {
    "name": "ipython",
    "version": 3
   },
   "file_extension": ".py",
   "mimetype": "text/x-python",
   "name": "python",
   "nbconvert_exporter": "python",
   "pygments_lexer": "ipython3",
   "version": "3.7.3"
  }
 },
 "nbformat": 4,
 "nbformat_minor": 2
}
